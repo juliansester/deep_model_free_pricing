{
 "cells": [
  {
   "cell_type": "markdown",
   "metadata": {},
   "source": [
    "# Example 3.5"
   ]
  },
  {
   "cell_type": "markdown",
   "metadata": {},
   "source": [
    "# Testing the Neural Network without Variance Constraints"
   ]
  },
  {
   "cell_type": "code",
   "execution_count": 1,
   "metadata": {},
   "outputs": [],
   "source": [
    "import numpy as np\n",
    "import pandas as pd\n",
    "from tensorflow import keras\n",
    "from Functions.MOT_2dim import *\n",
    "from Functions.marginal_discretization import *\n",
    "from sklearn.preprocessing import StandardScaler\n",
    "import tensorflow as tf\n",
    "from scipy.stats import norm"
   ]
  },
  {
   "cell_type": "markdown",
   "metadata": {},
   "source": [
    "Execute next line if running on GPU"
   ]
  },
  {
   "cell_type": "code",
   "execution_count": 2,
   "metadata": {},
   "outputs": [],
   "source": [
    "physical_devices = tf.config.list_physical_devices('GPU') \n",
    "tf.config.experimental.set_memory_growth(physical_devices[0], True)"
   ]
  },
  {
   "cell_type": "markdown",
   "metadata": {},
   "source": [
    "We define the payoff function, and load the model, as well as the scaler for the data"
   ]
  },
  {
   "cell_type": "code",
   "execution_count": 3,
   "metadata": {},
   "outputs": [],
   "source": [
    "nr_support = 20\n",
    "# Examplary Payoff Function: |x-y|\n",
    "def payoff(x,y):\n",
    "    return abs(y-x)\n",
    "model = keras.models.load_model(\"model.h5\")\n",
    "def read_data(nr_support = 20, variance = False):\n",
    "    csv_folder = \"csv\"\n",
    "    file_path = csv_folder + '/'+  'generated_marginals.csv'\n",
    "    df2 = pd.read_csv(file_path)\n",
    "    x = df2.iloc[:,2:(2*nr_support+2)]\n",
    "    return x\n",
    "x = read_data()\n",
    "scaler = StandardScaler().fit(x)"
   ]
  },
  {
   "cell_type": "markdown",
   "metadata": {},
   "source": [
    "Example (a)"
   ]
  },
  {
   "cell_type": "code",
   "execution_count": 5,
   "metadata": {
    "scrolled": true
   },
   "outputs": [
    {
     "name": "stdout",
     "output_type": "stream",
     "text": [
      "---Example (a)---\n",
      "\n",
      "Prediction Tensorflow\n",
      "0.25734794\n",
      "0.4210292\n",
      "Exact Value\n",
      "0.23632388093703954\n",
      "0.4225755881299505\n",
      "\n",
      "Cumulative Error: \n",
      "0.022570438500894352\n"
     ]
    }
   ],
   "source": [
    "print(\"---Example (a)---\\n\")\n",
    "v1,p1 = u_discretization_lognormal_distribution(0.5-0.5*0.25**2,0.25,nr_support)\n",
    "v2,p2 = u_discretization_lognormal_distribution(0.5-0.5*0.5**2,0.5,nr_support)\n",
    "x_data = [v1+v2]\n",
    "x_data = scaler.transform(x_data)\n",
    "x_data = np.array(x_data)\n",
    "#scaler.transform(x_data)\n",
    "print(\"Prediction Tensorflow\")\n",
    "prediction = model.predict(np.array(x_data).reshape(-1,2*nr_support))\n",
    "print(prediction[0][0])\n",
    "print(prediction[0][1])\n",
    "print(\"Exact Value\")\n",
    "# Exact Value\n",
    "print(mot_2dim(v1,p1,v2,p2,func=payoff,minimize=True)[0])\n",
    "print(mot_2dim(v1,p1,v2,p2,func=payoff,minimize=False)[0])\n",
    "\n",
    "Error = np.abs(prediction[0][0]-mot_2dim(v1,p1,v2,p2,func=payoff,minimize=True)[0])+np.abs(prediction[0][1]-mot_2dim(v1,p1,v2,p2,func=payoff,minimize=False)[0])\n",
    "print(\"\\nCumulative Error: \\n{}\".format(Error))\n",
    "\n",
    "latex_line_1 = \"(a) &$\"+ str(np.round(mot_2dim(v1,p1,v2,p2,func=payoff,minimize=True)[0],4))+\"$&$\" +str(np.round(prediction[0][0],4)) \\\n",
    "+\"$&$\"+ str(np.round(mot_2dim(v1,p1,v2,p2,func=payoff,minimize=False)[0],4))  +\"$&$\" + str(np.round(prediction[0][1],4)) \\\n",
    "+\"$&$\" +str(np.round(Error,4)) +\"$\\\\\\\\\""
   ]
  },
  {
   "cell_type": "markdown",
   "metadata": {},
   "source": [
    "Example (b)"
   ]
  },
  {
   "cell_type": "code",
   "execution_count": 6,
   "metadata": {
    "scrolled": true
   },
   "outputs": [
    {
     "name": "stdout",
     "output_type": "stream",
     "text": [
      "---Example (b)---\n",
      "\n",
      "Prediction Tensorflow\n",
      "0.0939288\n",
      "0.19463484\n",
      "Exact Value\n",
      "0.08139643663080649\n",
      "0.18700479138001416\n",
      "\n",
      "Cumulative Error: \n",
      "0.020162410914731713\n"
     ]
    }
   ],
   "source": [
    "print(\"---Example (b)---\\n\")\n",
    "v1,p1 = u_discretization_lognormal_distribution(-0.05,np.sqrt(0.1),nr_support)\n",
    "v2,p2 = u_discretization_lognormal_distribution(-0.1,np.sqrt(0.2),nr_support)\n",
    "x_data = [v1+v2]\n",
    "x_data = scaler.transform(x_data)\n",
    "x_data = np.array(x_data)\n",
    "#scaler.transform(x_data)\n",
    "print(\"Prediction Tensorflow\")\n",
    "prediction = model.predict(np.array(x_data).reshape(-1,2*nr_support))\n",
    "print(prediction[0][0])\n",
    "print(prediction[0][1])\n",
    "print(\"Exact Value\")\n",
    "# Exact Value\n",
    "print(mot_2dim(v1,p1,v2,p2,func=payoff,minimize=True)[0])\n",
    "print(mot_2dim(v1,p1,v2,p2,func=payoff,minimize=False)[0])\n",
    "\n",
    "Error = np.abs(prediction[0][0]-mot_2dim(v1,p1,v2,p2,func=payoff,minimize=True)[0])+np.abs(prediction[0][1]-mot_2dim(v1,p1,v2,p2,func=payoff,minimize=False)[0])\n",
    "print(\"\\nCumulative Error: \\n{}\".format(Error))\n",
    "\n",
    "latex_line_2 = \"(b) &$\"+ str(np.round(mot_2dim(v1,p1,v2,p2,func=payoff,minimize=True)[0],4))+\"$&$\" +str(np.round(prediction[0][0],4)) \\\n",
    "+\"$&$\"+ str(np.round(mot_2dim(v1,p1,v2,p2,func=payoff,minimize=False)[0],4))  +\"$&$\" + str(np.round(prediction[0][1],4)) \\\n",
    "+\"$&$\" +str(np.round(Error,4)) +\"$\\\\\\\\\""
   ]
  },
  {
   "cell_type": "markdown",
   "metadata": {},
   "source": [
    "Example (c)"
   ]
  },
  {
   "cell_type": "code",
   "execution_count": 7,
   "metadata": {
    "scrolled": true
   },
   "outputs": [
    {
     "name": "stdout",
     "output_type": "stream",
     "text": [
      " ---Example (c)---\n",
      "\n",
      "Prediction Tensorflow\n",
      "1.7503315\n",
      "2.6081834\n",
      "Exact Value\n",
      "1.7491372950578836\n",
      "2.6219999999999994\n",
      "\n",
      "Cumulative Error: \n",
      "0.015010842034706151\n"
     ]
    }
   ],
   "source": [
    "print(\" ---Example (c)---\\n\")\n",
    "# make predictions\n",
    "v1,p1 = u_discretization_uniform_distribution(8,12,nr_support)\n",
    "v2,p2 = u_discretization_uniform_distribution(5,15,nr_support)\n",
    "x_data = [v1+v2]\n",
    "x_data = np.array((x_data))\n",
    "#scaler.transform(x_data)\n",
    "print(\"Prediction Tensorflow\")\n",
    "x_data = scaler.transform(x_data)\n",
    "prediction = model.predict(x_data)\n",
    "print(prediction[0][0])\n",
    "print(prediction[0][1])\n",
    "print(\"Exact Value\")\n",
    "# Exact Value\n",
    "print(mot_2dim(v1,p1,v2,p2,func=payoff,minimize=True)[0])\n",
    "print(mot_2dim(v1,p1,v2,p2,func=payoff,minimize=False)[0])\n",
    "\n",
    "Error = np.abs(prediction[0][0]-mot_2dim(v1,p1,v2,p2,func=payoff,minimize=True)[0])+np.abs(prediction[0][1]-mot_2dim(v1,p1,v2,p2,func=payoff,minimize=False)[0])\n",
    "print(\"\\nCumulative Error: \\n{}\".format(Error))\n",
    "\n",
    "latex_line_3 = \"(c) &$\"+ str(np.round(mot_2dim(v1,p1,v2,p2,func=payoff,minimize=True)[0],4))+\"$&$\" +str(np.round(prediction[0][0],4)) \\\n",
    "+\"$&$\"+ str(np.round(mot_2dim(v1,p1,v2,p2,func=payoff,minimize=False)[0],4))  +\"$&$\" + str(np.round(prediction[0][1],4)) \\\n",
    "+\"$&$\" +str(np.round(Error,4)) +\"$\\\\\\\\\""
   ]
  },
  {
   "cell_type": "markdown",
   "metadata": {},
   "source": [
    "Example (d)"
   ]
  },
  {
   "cell_type": "code",
   "execution_count": 8,
   "metadata": {
    "scrolled": true
   },
   "outputs": [
    {
     "name": "stdout",
     "output_type": "stream",
     "text": [
      "---Example (d)---\n",
      "\n",
      "Prediction Tensorflow\n",
      "1.6659453\n",
      "1.6635988\n",
      "Exact Value\n",
      "1.66875\n",
      "1.6687499999999995\n",
      "\n",
      "Cumulative Error: \n",
      "0.007955932617186967\n"
     ]
    }
   ],
   "source": [
    "# make predictions\n",
    "print(\"---Example (d)---\\n\")\n",
    "v1,p1 = u_discretization_uniform_distribution(5,10,nr_support)\n",
    "v2 = [5,10]*int(nr_support/2)\n",
    "v2.sort()\n",
    "p2 = [1/nr_support]*nr_support\n",
    "x_data = [v1+v2]\n",
    "x_data = scaler.transform(x_data)\n",
    "x_data = np.array(x_data)\n",
    "#scaler.transform(x_data)\n",
    "print(\"Prediction Tensorflow\")\n",
    "prediction = model.predict(np.array(x_data).reshape(-1,2*nr_support))\n",
    "print(prediction[0][0])\n",
    "print(prediction[0][1])\n",
    "print(\"Exact Value\")\n",
    "# Exact Value\n",
    "print(mot_2dim(v1,p1,v2,p2,func=payoff,minimize=True)[0])\n",
    "print(mot_2dim(v1,p1,v2,p2,func=payoff,minimize=False)[0])\n",
    "\n",
    "Error = np.abs(prediction[0][0]-mot_2dim(v1,p1,v2,p2,func=payoff,minimize=True)[0])+np.abs(prediction[0][1]-mot_2dim(v1,p1,v2,p2,func=payoff,minimize=False)[0])\n",
    "print(\"\\nCumulative Error: \\n{}\".format(Error))\n",
    "\n",
    "latex_line_4 = \"(d) &$\"+ str(np.round(mot_2dim(v1,p1,v2,p2,func=payoff,minimize=True)[0],4))+\"$&$\" +str(np.round(prediction[0][0],4)) \\\n",
    "+\"$&$\"+ str(np.round(mot_2dim(v1,p1,v2,p2,func=payoff,minimize=False)[0],4))  +\"$&$\" + str(np.round(prediction[0][1],4)) \\\n",
    "+\"$&$\" +str(np.round(Error,4)) +\"$\\\\\\\\\""
   ]
  },
  {
   "cell_type": "markdown",
   "metadata": {},
   "source": [
    "Example (e)"
   ]
  },
  {
   "cell_type": "code",
   "execution_count": 9,
   "metadata": {},
   "outputs": [
    {
     "name": "stdout",
     "output_type": "stream",
     "text": [
      "---Example (e)---\n",
      "\n",
      "Prediction Tensorflow\n",
      "0.36255988\n",
      "0.7151117\n",
      "Exact Value\n",
      "0.35865561168573606\n",
      "0.721540251252162\n",
      "\n",
      "Cumulative Error: \n",
      "0.010332851474766425\n"
     ]
    }
   ],
   "source": [
    "print(\"---Example (e)---\\n\")\n",
    "def density1(x):\n",
    "    return 0.5*(x>= 2)*(x<=4)\n",
    "def density2(x):\n",
    "    return (1/3)*(x-1)*(x>= 1)*(x< 2)+ (1/3)*(x>= 2)*(x < 4)+(1/3)*(5-x)*(x>= 4)*(x<= 5)\n",
    "\n",
    "\n",
    "v1,p1 = discretize_density(density1,min=2, max=4,N=10000)\n",
    "v2,p2 = discretize_density(density2,min=1, max=5,N=10000)\n",
    "x_data = [v1+v2]\n",
    "x_data = scaler.transform(x_data)\n",
    "x_data = np.array(x_data)\n",
    "#scaler.transform(x_data)\n",
    "print(\"Prediction Tensorflow\")\n",
    "prediction = model.predict(np.array(x_data).reshape(-1,2*nr_support))\n",
    "print(prediction[0][0])\n",
    "print(prediction[0][1])\n",
    "print(\"Exact Value\")\n",
    "# Exact Value\n",
    "print(mot_2dim(v1,p1,v2,p2,func=payoff,minimize=True)[0])\n",
    "print(mot_2dim(v1,p1,v2,p2,func=payoff,minimize=False)[0])\n",
    "\n",
    "Error = np.abs(prediction[0][0]-mot_2dim(v1,p1,v2,p2,func=payoff,minimize=True)[0])+np.abs(prediction[0][1]-mot_2dim(v1,p1,v2,p2,func=payoff,minimize=False)[0])\n",
    "print(\"\\nCumulative Error: \\n{}\".format(Error))\n",
    "\n",
    "latex_line_5 =\"(e) &$\"+ str(np.round(mot_2dim(v1,p1,v2,p2,func=payoff,minimize=True)[0],4))+\"$&$\" +str(np.round(prediction[0][0],4)) \\\n",
    "+\"$&$\"+ str(np.round(mot_2dim(v1,p1,v2,p2,func=payoff,minimize=False)[0],4))  +\"$&$\" + str(np.round(prediction[0][1],4))\\\n",
    "+\"$&$\" +str(np.round(Error,4)) +\"$\\\\\\\\\""
   ]
  },
  {
   "cell_type": "markdown",
   "metadata": {},
   "source": [
    "Print the latex-table (For copy-paste to the document)"
   ]
  },
  {
   "cell_type": "code",
   "execution_count": 10,
   "metadata": {},
   "outputs": [
    {
     "name": "stdout",
     "output_type": "stream",
     "text": [
      "(a) &$0.2363$&$0.2573$&$0.4226$&$0.421$&$0.0226$\\\\\n",
      "(b) &$0.0814$&$0.0939$&$0.187$&$0.1946$&$0.0202$\\\\\n",
      "(c) &$1.7491$&$1.7503$&$2.622$&$2.6082$&$0.015$\\\\\n",
      "(d) &$1.6688$&$1.6659$&$1.6687$&$1.6636$&$0.008$\\\\\n",
      "(e) &$0.3587$&$0.3626$&$0.7215$&$0.7151$&$0.0103$\\\\\n"
     ]
    }
   ],
   "source": [
    "print(latex_line_1)\n",
    "print(latex_line_2)\n",
    "print(latex_line_3)\n",
    "print(latex_line_4)\n",
    "print(latex_line_5)"
   ]
  }
 ],
 "metadata": {
  "kernelspec": {
   "display_name": "Python 3",
   "language": "python",
   "name": "python3"
  },
  "language_info": {
   "codemirror_mode": {
    "name": "ipython",
    "version": 3
   },
   "file_extension": ".py",
   "mimetype": "text/x-python",
   "name": "python",
   "nbconvert_exporter": "python",
   "pygments_lexer": "ipython3",
   "version": "3.7.9"
  }
 },
 "nbformat": 4,
 "nbformat_minor": 4
}
